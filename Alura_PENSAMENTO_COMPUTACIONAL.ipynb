{
  "nbformat": 4,
  "nbformat_minor": 0,
  "metadata": {
    "colab": {
      "provenance": [],
      "mount_file_id": "1nYrFnZK4sYB8CGRlVhRL0YuI0m5ZjA46",
      "authorship_tag": "ABX9TyPRYol0aoijvE/yfQNYBoIN",
      "include_colab_link": true
    },
    "kernelspec": {
      "name": "python3",
      "display_name": "Python 3"
    },
    "language_info": {
      "name": "python"
    }
  },
  "cells": [
    {
      "cell_type": "markdown",
      "metadata": {
        "id": "view-in-github",
        "colab_type": "text"
      },
      "source": [
        "<a href=\"https://colab.research.google.com/github/caiomagro89/learning_phyton3/blob/main/Alura_PENSAMENTO_COMPUTACIONAL.ipynb\" target=\"_parent\"><img src=\"https://colab.research.google.com/assets/colab-badge.svg\" alt=\"Open In Colab\"/></a>"
      ]
    },
    {
      "cell_type": "code",
      "execution_count": null,
      "metadata": {
        "colab": {
          "base_uri": "https://localhost:8080/"
        },
        "id": "FLW0xMfqL8RB",
        "outputId": "c7b6410d-8317-443f-acbe-997126eec25d"
      },
      "outputs": [
        {
          "output_type": "stream",
          "name": "stdout",
          "text": [
            "informe o numero: 3\n",
            "Tente um valor maior\n"
          ]
        }
      ],
      "source": [
        "numero_secreto = 10\n",
        "numero = int(input(\"informe o numero: \"))\n",
        "if (numero < numero_secreto):\n",
        "  print (\"Tente um valor maior\")\n",
        "if(numero > numero_secreto):\n",
        "  print (\"Tente um valor menor\")\n",
        "if(numero == numero_secreto):\n",
        "  print (\"Você acertou\")"
      ]
    },
    {
      "cell_type": "code",
      "source": [
        "nota1 = float(input(\"Informe a nota 1: \"))\n",
        "nota2 = float(input(\"Informe a nota 2: \"))\n",
        "nota3 = float(input(\"Informe a nota 3: \"))\n",
        "media_calculada = (nota1 + nota2 + nota3) /3\n",
        "print(f'{media_calculada: .2f}')\n",
        "if media_calculada in range(5,11):\n",
        "  print(\"Aprovado\")\n",
        "else:\n",
        "  print(\"Reprovado\")"
      ],
      "metadata": {
        "colab": {
          "base_uri": "https://localhost:8080/"
        },
        "id": "4sZu-pkeFWsM",
        "outputId": "f147f214-68bb-4dc0-d933-0d9b8a9aacaa"
      },
      "execution_count": 23,
      "outputs": [
        {
          "output_type": "stream",
          "name": "stdout",
          "text": [
            "Informe a nota 1: 3.3\n",
            "Informe a nota 2: 5.5\n",
            "Informe a nota 3: 7\n",
            " 5.27\n",
            "Reprovado\n"
          ]
        }
      ]
    },
    {
      "cell_type": "code",
      "source": [
        "nota1 = float(input(\"Informe a nota 1: \"))\n",
        "nota2 = float(input(\"Informe a nota 2: \"))\n",
        "nota3 = float(input(\"Informe a nota 3: \"))\n",
        "\n",
        "#calculo da media_calculada\n",
        "media_calculada = (nota1 + nota2 + nota3)/3\n",
        "print(f'A média é {media_calculada: .3f}')\n",
        "if(media_calculada >= 5):\n",
        "  print(\"Aprovado\")\n",
        "else:\n",
        "  print(\"Reprovado\")\n",
        "\n",
        "\n"
      ],
      "metadata": {
        "colab": {
          "base_uri": "https://localhost:8080/"
        },
        "id": "EIOPKUrZR6GU",
        "outputId": "2958baca-0841-4f18-bf94-65e1dc1ed0f4"
      },
      "execution_count": null,
      "outputs": [
        {
          "output_type": "stream",
          "name": "stdout",
          "text": [
            "Informe a nota 1: 3.3\n",
            "Informe a nota 2: 4.4\n",
            "Informe a nota 3: .5\n",
            "A média é  2.733\n",
            "Reprovado\n"
          ]
        }
      ]
    }
  ]
}